{
 "cells": [
  {
   "cell_type": "code",
   "execution_count": 1,
   "metadata": {
    "collapsed": true
   },
   "outputs": [],
   "source": [
    "from sarsa_lambda_fa import *"
   ]
  },
  {
   "cell_type": "code",
   "execution_count": 2,
   "metadata": {
    "collapsed": false
   },
   "outputs": [
    {
     "name": "stdout",
     "output_type": "stream",
     "text": [
      "using epsilon  0.05\n",
      "numiter 100000 n_lambda 3\n",
      "0.0\n",
      "0.5\n",
      "1.0\n"
     ]
    }
   ],
   "source": [
    "sarsa_test = sarsa_fa()\n",
    "\n",
    "sarsa_test.loop_over_lambda(100000,3)"
   ]
  },
  {
   "cell_type": "code",
   "execution_count": null,
   "metadata": {
    "collapsed": false
   },
   "outputs": [],
   "source": [
    "# class sarsa_fa:\n",
    "\n",
    "#     def visualize(self):\n",
    "\n",
    "fig = plt.figure()\n",
    "ax = fig.add_subplot(111, projection='3d')\n",
    "X, Y = np.meshgrid(range(1,11), range(1,22))\n",
    "# print(X.shape,Y.shape)\n",
    "ax.plot_wireframe(X,Y, sarsa_test.opt_Valuefunction)\n",
    "ax.set_xlabel(\"dealer\")\n",
    "ax.set_ylabel(\"player\")\n",
    "ax.set_zlabel(\"value\")\n",
    "\n",
    "fig = plt.figure()\n",
    "opt_policy = np.argmax(sarsa_test.calcQtable(),2)\n",
    "plt.imshow(opt_policy,cmap=plt.get_cmap('gray'),interpolation='none')\n",
    "\n",
    "fig = plt.figure()\n",
    "plt.plot(sarsa_test.mse_1000)\n",
    "plt.xlabel(\"lambda\")\n",
    "plt.ylabel(\"mean squared errror from 1e6 monte carlo\")\n",
    "\n",
    "\n",
    "fig = plt.figure()\n",
    "for i in range(3):\n",
    "    line1, = plt.plot(range(len(sarsa_test.error_lists[i])), sarsa_test.error_lists[i], label=\"lambda =\"+str(np.linspace(0,1,11)[i]))\n",
    "plt.legend()\n",
    "\n",
    "plt.xlabel(\"1000 episodes\")\n",
    "plt.ylabel(\"Mean squared error to Monte Carlo 1e6 \")\n",
    "\n",
    "plt.show()\n",
    "\n",
    "plt.close('all')\n"
   ]
  },
  {
   "cell_type": "code",
   "execution_count": null,
   "metadata": {
    "collapsed": false
   },
   "outputs": [],
   "source": [
    "sarsa_test.visualize()"
   ]
  },
  {
   "cell_type": "code",
   "execution_count": null,
   "metadata": {
    "collapsed": false
   },
   "outputs": [],
   "source": [
    "sarsa_test.epsilon\n"
   ]
  }
 ],
 "metadata": {
  "kernelspec": {
   "display_name": "Python 2",
   "language": "python",
   "name": "python2"
  },
  "language_info": {
   "codemirror_mode": {
    "name": "ipython",
    "version": 2
   },
   "file_extension": ".py",
   "mimetype": "text/x-python",
   "name": "python",
   "nbconvert_exporter": "python",
   "pygments_lexer": "ipython2",
   "version": "2.7.11"
  }
 },
 "nbformat": 4,
 "nbformat_minor": 0
}
