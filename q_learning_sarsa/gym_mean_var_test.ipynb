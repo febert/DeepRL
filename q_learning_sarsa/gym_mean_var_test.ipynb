{
 "cells": [
  {
   "cell_type": "code",
   "execution_count": 1,
   "metadata": {
    "collapsed": false
   },
   "outputs": [
    {
     "name": "stderr",
     "output_type": "stream",
     "text": [
      "[2016-07-19 10:04:56,893] Site environment registry incorrect: Scoreboard did not register all envs: set(['AcrobotContinuous-v0'])\n"
     ]
    },
    {
     "name": "stdout",
     "output_type": "stream",
     "text": [
      "Populating the interactive namespace from numpy and matplotlib\n"
     ]
    }
   ],
   "source": [
    "import gym as gym\n",
    "%pylab inline"
   ]
  },
  {
   "cell_type": "code",
   "execution_count": 2,
   "metadata": {
    "collapsed": false
   },
   "outputs": [
    {
     "name": "stderr",
     "output_type": "stream",
     "text": [
      "[2016-07-07 11:11:06,714] Making new env: MountainCar-v0\n"
     ]
    },
    {
     "name": "stdout",
     "output_type": "stream",
     "text": [
      "132319\n",
      "[ -5.14191222e-01   5.58844290e-05]\n",
      "[ 0.11860186  0.00060793]\n",
      "[-0.30000001  0.        ]\n",
      "[ 0.81    0.0049]\n"
     ]
    }
   ],
   "source": [
    "env = gym.make('MountainCar-v0')\n",
    "\n",
    "states = []\n",
    "\n",
    "while len(states) < 1e5:\n",
    "  env.reset()\n",
    "  done = False\n",
    "  while not done:\n",
    "    state, _, done, _ = env.step(env.action_space.sample())\n",
    "    states.append(state)\n",
    "    \n",
    "print(len(states))\n",
    "print(np.mean(states, axis=(0)))\n",
    "print(np.var(states, axis=(0)))\n",
    "\n",
    "high = env.observation_space.high\n",
    "low = env.observation_space.low\n",
    "normalization_var = ((high/2 - low/2)**2).astype(np.float32)\n",
    "normalization_var[np.isinf(normalization_var)] = 1.0\n",
    "normalization_mean = ((high + low)/2.0).astype(np.float32)\n",
    "normalization_mean[np.isnan(normalization_mean)] = 0.0\n",
    "\n",
    "print(normalization_mean)\n",
    "print(normalization_var)"
   ]
  },
  {
   "cell_type": "code",
   "execution_count": 3,
   "metadata": {
    "collapsed": false
   },
   "outputs": [
    {
     "name": "stderr",
     "output_type": "stream",
     "text": [
      "[2016-07-07 11:11:08,684] Making new env: Acrobot-v0\n"
     ]
    },
    {
     "name": "stdout",
     "output_type": "stream",
     "text": [
      "100014\n",
      "[ 0.0004221   0.00629445 -0.00317496  0.02609741]\n",
      "[ 0.53635338  2.11967184  2.74984364  8.1708995 ]\n",
      "[ 0.  0.  0.  0.]\n",
      "[   9.86960411    9.86960411  157.91366577  799.43792725]\n"
     ]
    }
   ],
   "source": [
    "env = gym.make('Acrobot-v0')\n",
    "\n",
    "states = []\n",
    "\n",
    "while len(states) < 1e5:\n",
    "  env.reset()\n",
    "  done = False\n",
    "  while not done:\n",
    "    state, _, done, _ = env.step(env.action_space.sample())\n",
    "    states.append(state)\n",
    "    \n",
    "print(len(states))\n",
    "print(np.mean(states, axis=(0)))\n",
    "print(np.var(states, axis=(0)))\n",
    "\n",
    "high = env.observation_space.high\n",
    "low = env.observation_space.low\n",
    "normalization_var = ((high/2 - low/2)**2).astype(np.float32)\n",
    "normalization_var[np.isinf(normalization_var)] = 1.0\n",
    "normalization_mean = ((high + low)/2.0).astype(np.float32)\n",
    "normalization_mean[np.isnan(normalization_mean)] = 0.0\n",
    "\n",
    "print(normalization_mean)\n",
    "print(normalization_var)"
   ]
  },
  {
   "cell_type": "code",
   "execution_count": 3,
   "metadata": {
    "collapsed": false
   },
   "outputs": [
    {
     "name": "stderr",
     "output_type": "stream",
     "text": [
      "[2016-07-19 10:05:18,233] Making new env: CartPole-v0\n"
     ]
    },
    {
     "name": "stdout",
     "output_type": "stream",
     "text": [
      "Box(4,)\n",
      "Discrete(2)\n",
      "100017\n",
      "[ 0.00226849  0.00498453  0.00190249  0.00525343]\n",
      "[ 0.0098635   0.31733479  0.01052998  0.72302333]\n",
      "[ 0.  0.  0.  0.]\n",
      "[ 5.76000023  1.          0.17545964  1.        ]\n"
     ]
    },
    {
     "name": "stderr",
     "output_type": "stream",
     "text": [
      "/home/ga24pug/mypython-deeprl/lib/python2.7/site-packages/ipykernel/__main__.py:23: RuntimeWarning: invalid value encountered in add\n"
     ]
    }
   ],
   "source": [
    "env = gym.make('CartPole-v0')\n",
    "\n",
    "print(env.observation_space)\n",
    "print(env.action_space)\n",
    "\n",
    "states = []\n",
    "\n",
    "while len(states) < 1e5:\n",
    "  env.reset()\n",
    "  done = False\n",
    "  while not done:\n",
    "    state, _, done, _ = env.step(env.action_space.sample())\n",
    "    states.append(state)\n",
    "    \n",
    "print(len(states))\n",
    "print(np.mean(states, axis=(0)))\n",
    "print(np.var(states, axis=(0)))\n",
    "\n",
    "high = env.observation_space.high\n",
    "low = env.observation_space.low\n",
    "normalization_var = ((high/2 - low/2)**2).astype(np.float32)\n",
    "normalization_var[np.isinf(normalization_var)] = 1.0\n",
    "normalization_mean = ((high + low)/2.0).astype(np.float32)\n",
    "normalization_mean[np.isnan(normalization_mean)] = 0.0\n",
    "\n",
    "print(normalization_mean)\n",
    "print(normalization_var)"
   ]
  },
  {
   "cell_type": "code",
   "execution_count": null,
   "metadata": {
    "collapsed": true
   },
   "outputs": [],
   "source": []
  }
 ],
 "metadata": {
  "kernelspec": {
   "display_name": "Python 2",
   "language": "python",
   "name": "python2"
  },
  "language_info": {
   "codemirror_mode": {
    "name": "ipython",
    "version": 2
   },
   "file_extension": ".py",
   "mimetype": "text/x-python",
   "name": "python",
   "nbconvert_exporter": "python",
   "pygments_lexer": "ipython2",
   "version": "2.7.6"
  }
 },
 "nbformat": 4,
 "nbformat_minor": 0
}
