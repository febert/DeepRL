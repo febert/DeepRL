{
 "cells": [
  {
   "cell_type": "code",
   "execution_count": 2,
   "metadata": {
    "collapsed": false,
    "scrolled": true
   },
   "outputs": [
    {
     "name": "stderr",
     "output_type": "stream",
     "text": [
      "[2016-05-24 14:45:47,084] Making new env: MountainCar-v0\n",
      "[2016-05-24 14:45:47,092] Making new env: Pendulum-v0\n",
      "[2016-05-24 14:45:47,096] Making new env: Acrobot-v0\n",
      "[2016-05-24 14:45:47,100] Making new env: CartPole-v0\n"
     ]
    },
    {
     "name": "stdout",
     "output_type": "stream",
     "text": [
      "MountainCar-v0\n",
      "observation   (2,)\n",
      "action   Discrete(3)\n",
      "Pendulum-v0\n",
      "observation   Box(3,)\n",
      "action   Box(1,)\n",
      "Acrobot-v0\n",
      "observation   Box(4,)\n",
      "action   Discrete(3)\n",
      "CartPole-v0\n",
      "observation   Box(4,)\n",
      "action   Discrete(2)\n"
     ]
    }
   ],
   "source": [
    "import gym\n",
    "\n",
    "env = gym.make('MountainCar-v0')\n",
    "print 'MountainCar-v0'\n",
    "print 'observation  ', env.observation_space.shape\n",
    "print 'action  ',env.action_space\n",
    "\n",
    "env = gym.make('Pendulum-v0')\n",
    "print 'Pendulum-v0'\n",
    "print 'observation  ', env.observation_space\n",
    "print 'action  ',env.action_space\n",
    "\n",
    "env = gym.make('Acrobot-v0')\n",
    "print 'Acrobot-v0'\n",
    "print 'observation  ', env.observation_space\n",
    "print 'action  ',env.action_space\n",
    "\n",
    "env = gym.make('CartPole-v0')\n",
    "print 'CartPole-v0'\n",
    "print 'observation  ', env.observation_space\n",
    "print 'action  ',env.action_space"
   ]
  },
  {
   "cell_type": "code",
   "execution_count": 25,
   "metadata": {
    "collapsed": false
   },
   "outputs": [
    {
     "name": "stdout",
     "output_type": "stream",
     "text": [
      "Box(4,)\n"
     ]
    }
   ],
   "source": [
    "print env.observation_space"
   ]
  },
  {
   "cell_type": "code",
   "execution_count": 26,
   "metadata": {
    "collapsed": false
   },
   "outputs": [
    {
     "name": "stdout",
     "output_type": "stream",
     "text": [
      "Discrete(3)\n"
     ]
    }
   ],
   "source": [
    "print env.action_space"
   ]
  },
  {
   "cell_type": "code",
   "execution_count": 655,
   "metadata": {
    "collapsed": false
   },
   "outputs": [
    {
     "name": "stderr",
     "output_type": "stream",
     "text": [
      "[2016-05-24 14:48:12,059] Making new env: MountainCar-v0\n"
     ]
    },
    {
     "name": "stdout",
     "output_type": "stream",
     "text": [
      "MountainCar-v0\n",
      "observation   (2,)\n",
      "action   Discrete(3)\n"
     ]
    }
   ],
   "source": [
    "env = gym.make('MountainCar-v0')\n",
    "print 'MountainCar-v0'\n",
    "print 'observation  ', env.observation_space.shape\n",
    "print 'action  ',env.action_space\n"
   ]
  },
  {
   "cell_type": "code",
   "execution_count": 656,
   "metadata": {
    "collapsed": false
   },
   "outputs": [],
   "source": [
    "state, reward, done, info = env.step(2)\n",
    "env.render()"
   ]
  }
 ],
 "metadata": {
  "kernelspec": {
   "display_name": "Python 2",
   "language": "python",
   "name": "python2"
  },
  "language_info": {
   "codemirror_mode": {
    "name": "ipython",
    "version": 2
   },
   "file_extension": ".py",
   "mimetype": "text/x-python",
   "name": "python",
   "nbconvert_exporter": "python",
   "pygments_lexer": "ipython2",
   "version": "2.7.11"
  }
 },
 "nbformat": 4,
 "nbformat_minor": 0
}
