{
 "cells": [
  {
   "cell_type": "code",
   "execution_count": 7,
   "metadata": {
    "collapsed": false
   },
   "outputs": [
    {
     "name": "stderr",
     "output_type": "stream",
     "text": [
      "[2016-07-18 12:45:02,471] Site environment registry incorrect: Scoreboard did not register all envs: set(['AcrobotContinuous-v0'])\n"
     ]
    }
   ],
   "source": [
    "import gym"
   ]
  },
  {
   "cell_type": "code",
   "execution_count": 19,
   "metadata": {
    "collapsed": false
   },
   "outputs": [
    {
     "name": "stderr",
     "output_type": "stream",
     "text": [
      "[2016-07-18 16:10:56,198] Making new env: AcrobotContinuous-v0\n"
     ]
    },
    {
     "name": "stdout",
     "output_type": "stream",
     "text": [
      "('action space', Box(1,))\n",
      "('action low', array([-1.]))\n",
      "('action high', array([ 1.]))\n",
      "('observations', Box(4,))\n",
      "[ -3.14159265  -3.14159265 -12.56637061 -28.27433388]\n",
      "[  3.14159265   3.14159265  12.56637061  28.27433388]\n"
     ]
    }
   ],
   "source": [
    "env = gym.make('AcrobotContinuous-v0')\n",
    "print('action space', env.action_space)\n",
    "\n",
    "print('action low', env.action_space.low)\n",
    "print('action high', env.action_space.high)\n",
    "\n",
    "\n",
    "print('observations', env.observation_space)\n",
    "print(env.observation_space.low)\n",
    "print(env.observation_space.high)"
   ]
  },
  {
   "cell_type": "code",
   "execution_count": 1,
   "metadata": {
    "collapsed": false
   },
   "outputs": [
    {
     "ename": "NameError",
     "evalue": "name 'env' is not defined",
     "output_type": "error",
     "traceback": [
      "\u001b[1;31m---------------------------------------------------------------------------\u001b[0m",
      "\u001b[1;31mNameError\u001b[0m                                 Traceback (most recent call last)",
      "\u001b[1;32m<ipython-input-1-c4e2d21a0b17>\u001b[0m in \u001b[0;36m<module>\u001b[1;34m()\u001b[0m\n\u001b[0;32m      1\u001b[0m \u001b[0mdone\u001b[0m \u001b[1;33m=\u001b[0m \u001b[0mFalse\u001b[0m\u001b[1;33m\u001b[0m\u001b[0m\n\u001b[0;32m      2\u001b[0m \u001b[1;32mwhile\u001b[0m \u001b[1;32mnot\u001b[0m \u001b[0mdone\u001b[0m\u001b[1;33m:\u001b[0m\u001b[1;33m\u001b[0m\u001b[0m\n\u001b[1;32m----> 3\u001b[1;33m     \u001b[0mstate\u001b[0m\u001b[1;33m,\u001b[0m \u001b[0m_\u001b[0m\u001b[1;33m,\u001b[0m \u001b[0mdone\u001b[0m\u001b[1;33m,\u001b[0m \u001b[0m_\u001b[0m \u001b[1;33m=\u001b[0m \u001b[0menv\u001b[0m\u001b[1;33m.\u001b[0m\u001b[0mstep\u001b[0m\u001b[1;33m(\u001b[0m\u001b[0menv\u001b[0m\u001b[1;33m.\u001b[0m\u001b[0maction_space\u001b[0m\u001b[1;33m.\u001b[0m\u001b[0msample\u001b[0m\u001b[1;33m(\u001b[0m\u001b[1;33m)\u001b[0m\u001b[1;33m)\u001b[0m\u001b[1;33m\u001b[0m\u001b[0m\n\u001b[0m\u001b[0;32m      4\u001b[0m     \u001b[0menv\u001b[0m\u001b[1;33m.\u001b[0m\u001b[0mrender\u001b[0m\u001b[1;33m(\u001b[0m\u001b[1;33m)\u001b[0m\u001b[1;33m\u001b[0m\u001b[0m\n",
      "\u001b[1;31mNameError\u001b[0m: name 'env' is not defined"
     ]
    }
   ],
   "source": [
    "done = False\n",
    "while not done:\n",
    "    state, _, done, _ = env.step(env.action_space.sample())\n",
    "    env.render()"
   ]
  },
  {
   "cell_type": "code",
   "execution_count": 20,
   "metadata": {
    "collapsed": false
   },
   "outputs": [
    {
     "name": "stdout",
     "output_type": "stream",
     "text": [
      "Calculating normalization by random action sampling...\n",
      "('montecarlo mean:', array([-0.00020907, -0.00273588,  0.00071914, -0.01408309], dtype=float32))\n",
      "('montecarlo var:', array([  0.79269701,   2.74056292,   3.55256128,  10.79969215], dtype=float32))\n"
     ]
    }
   ],
   "source": [
    "import numpy as np\n",
    "\n",
    "#STATE NORMALIZATION\n",
    "print('Calculating normalization by random action sampling...')\n",
    "states = []\n",
    "\n",
    "env.reset()\n",
    "\n",
    "while len(states) < 1e5:\n",
    "    \n",
    "    done = False\n",
    "    while not done:\n",
    "        state, _, done, _ = env.step(env.action_space.sample())\n",
    "        # state, _, done, _ = self.env.step(self.ou_process.ou_step())\n",
    "        states.append(state.squeeze())\n",
    "\n",
    "    # self.env.render()\n",
    "\n",
    "#     print('done, lastest {}'.format(len(states)))\n",
    "\n",
    "\n",
    "normalization_mean = np.mean(states, axis=(0)).astype(np.float32)\n",
    "normalization_var = np.var(states, axis=(0)).astype(np.float32)\n",
    "\n",
    "print('montecarlo mean:', normalization_mean)\n",
    "print('montecarlo var:', normalization_var)\n"
   ]
  },
  {
   "cell_type": "code",
   "execution_count": null,
   "metadata": {
    "collapsed": true
   },
   "outputs": [],
   "source": []
  }
 ],
 "metadata": {
  "kernelspec": {
   "display_name": "Python 2",
   "language": "python",
   "name": "python2"
  },
  "language_info": {
   "codemirror_mode": {
    "name": "ipython",
    "version": 2
   },
   "file_extension": ".py",
   "mimetype": "text/x-python",
   "name": "python",
   "nbconvert_exporter": "python",
   "pygments_lexer": "ipython2",
   "version": "2.7.11"
  }
 },
 "nbformat": 4,
 "nbformat_minor": 0
}
