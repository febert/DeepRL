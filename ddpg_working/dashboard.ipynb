{
 "cells": [
  {
   "cell_type": "markdown",
   "metadata": {},
   "source": [
    "# Dashboard "
   ]
  },
  {
   "cell_type": "markdown",
   "metadata": {},
   "source": [
    "### Select cell below and press *Ctrl+Enter*"
   ]
  },
  {
   "cell_type": "code",
   "execution_count": 1,
   "metadata": {
    "code_folding": [
     0
    ],
    "collapsed": false,
    "scrolled": true
   },
   "outputs": [],
   "source": [
    "from dashboard import dashboard\n",
    "dashboard(max=10)"
   ]
  },
  {
   "cell_type": "markdown",
   "metadata": {},
   "source": [
    "\n",
    "### To view tensorboard results click on tensorboard and then on `open`\n",
    "\n",
    "### Debugging:\n",
    "Widgetsnbextension are not installed/enabled. Fix:\n",
    "```bash\n",
    "pip install ipywidgets\n",
    "jupyter nbextension enable --py widgetsnbextension\n",
    "```\n",
    "Reloading the page, restarting the kernel, restarting jupyter might help too."
   ]
  },
  {
   "cell_type": "code",
   "execution_count": null,
   "metadata": {
    "collapsed": true
   },
   "outputs": [],
   "source": []
  }
 ],
 "metadata": {
  "kernelspec": {
   "display_name": "Python 2",
   "language": "python",
   "name": "python2"
  },
  "language_info": {
   "codemirror_mode": {
    "name": "ipython",
    "version": 2
   },
   "file_extension": ".py",
   "mimetype": "text/x-python",
   "name": "python",
   "nbconvert_exporter": "python",
   "pygments_lexer": "ipython2",
   "version": "2.7.11"
  },
  "widgets": {
   "state": {
    "013dfe701fb94f3c895fc3fa39c550dd": {
     "views": []
    },
    "0339b10dce5b4fffbb32c3c170f5dd46": {
     "views": []
    },
    "037a4a4f5f1c45a4b0a9bdd1d48098c4": {
     "views": []
    },
    "046c4520cd18434e98abe9dee0e16684": {
     "views": []
    },
    "06113c85869849d4af79225d8ad84913": {
     "views": []
    },
    "06641a74942f4bef95c195671f1f0bab": {
     "views": []
    },
    "06c10d93bd7649069b4676670c182fd4": {
     "views": []
    },
    "08c21c52bada4327821cd9eb6ca0c088": {
     "views": []
    },
    "0a6628ce574f461ca6250af2a3730fb4": {
     "views": []
    },
    "0bfd436c073d4cabb98a752ec418317b": {
     "views": []
    },
    "0ca8a5508bab47538177c1bfc1452300": {
     "views": []
    },
    "0cd1ede7e6de49198b2605cf691d922e": {
     "views": []
    },
    "0d205fd63b0f41cab93febbe9d760d37": {
     "views": []
    },
    "11acc53677544504b468af6a688a6c3a": {
     "views": []
    },
    "133a8d5759d0457bae391b3bfc1e655e": {
     "views": []
    },
    "15bb33b5b5df40a0bb036a0a7b6aece4": {
     "views": []
    },
    "16ecc74a69fc4f2d9910e31158f0905a": {
     "views": []
    },
    "18142a2dd43c4ffb9321d480934a59d4": {
     "views": []
    },
    "183bbb22c54943808a286db355275018": {
     "views": []
    },
    "19080a362f4b4e56ae132452475fdf64": {
     "views": []
    },
    "1bf793b22c3f44509dbcdae72ef195c9": {
     "views": []
    },
    "1c016e0f2ab44b78be593ccba2f5b0b5": {
     "views": []
    },
    "1c27c93eb7124e8487b810487fec0e42": {
     "views": []
    },
    "1c7716ef36c54b3e9d010f74b8807d6e": {
     "views": []
    },
    "1d0cb6eb8ea94618a4e0b92af26474af": {
     "views": []
    },
    "1de5c242ada64a998416f6002e77c926": {
     "views": []
    },
    "202f23523faf4e6cb9322e3da268df58": {
     "views": []
    },
    "21d88a76411242e9b246a92836506795": {
     "views": []
    },
    "223e129431f8498a8174de1d229cda5b": {
     "views": []
    },
    "2257504e87dd4fa6b75c107aad2395e6": {
     "views": []
    },
    "23aadfe2ad044384adc82fecbdcf3b82": {
     "views": []
    },
    "2500754a55a042b496b0cd3e047165cf": {
     "views": []
    },
    "265cb083291b41fd987040c319a832d9": {
     "views": []
    },
    "27696eecd4604cb2a13a1612d2b11c3f": {
     "views": []
    },
    "27b456535f7740fb81c0438a2b76f2e1": {
     "views": []
    },
    "29beeca0871d40be9ae58f23c3d94592": {
     "views": []
    },
    "2b92d2aaa12441c5a453ee5fc4d604f3": {
     "views": []
    },
    "2e6fa1b5bb5142bf9a5b12f86d23d5e6": {
     "views": []
    },
    "3041fb80df304c91b4ab9f88db703bae": {
     "views": []
    },
    "31217ea56d50458da6b03674f57b271d": {
     "views": []
    },
    "31d5bec0835448c4b7af8b2b6afc88d0": {
     "views": []
    },
    "331130b41adb4c07934b5c77bb903b9c": {
     "views": []
    },
    "34c1e5cb62b04caf97880747d7ac8043": {
     "views": []
    },
    "36d27b97316843f8a6ad381b4aede8a6": {
     "views": []
    },
    "36fa6c6f977a48969a426276347110b9": {
     "views": []
    },
    "397aa6800a26468785d789c34d067efa": {
     "views": []
    },
    "39d8050b306040bf8844cb368b1df63a": {
     "views": []
    },
    "3adfa4d903024253bf5d6aba5f9ecc30": {
     "views": []
    },
    "3c485fc7e7064112a1c9ca4f6dacfabe": {
     "views": []
    },
    "3d56b4eade464921abb616d4188457fc": {
     "views": []
    },
    "414e3341b5d04e61a7bc407d5c900f4d": {
     "views": []
    },
    "41f67ccc492c41dfa67aaf0d4bf0df3f": {
     "views": []
    },
    "426666eb5e284f8eaff80c44aaec324b": {
     "views": []
    },
    "4361d701530e4ea08ab1faf05894d4dd": {
     "views": []
    },
    "474e59b9949c4dde980a0d9a5e9f35f1": {
     "views": []
    },
    "488983c9180b405592af1c3581eb6f2b": {
     "views": []
    },
    "4998582c935944b593074dc7403d295e": {
     "views": []
    },
    "49c6e42680e54bc3abdc8317941a44f2": {
     "views": []
    },
    "4b2014d2c05d4d5880ee80e6a6f1c610": {
     "views": []
    },
    "4bc3b7e27721443a90da6b18e13c8135": {
     "views": []
    },
    "4f09d63c52c44884aadf309ccaa9a17e": {
     "views": []
    },
    "5164594eaef44b388edb437aca7fb1cc": {
     "views": []
    },
    "51a9f3d2281e459cad8269cd056548cf": {
     "views": []
    },
    "52b3b4768bfd4e82bcffe9e8cc35b6db": {
     "views": []
    },
    "53f3ab0b54584cf8ad3482fd2ac1689e": {
     "views": []
    },
    "5439e359ac1f424bafdd31a742d77492": {
     "views": []
    },
    "54aa29e8b2cb4c48a54af8674b398b51": {
     "views": []
    },
    "54b101ac611647c28edf91b52cd926e9": {
     "views": []
    },
    "56671837220d45708cd4f8d30b721d41": {
     "views": []
    },
    "5d3cc8f3037f426d805def4f2bd943bd": {
     "views": []
    },
    "5e62fdff83ba4b76ad10aa1399888400": {
     "views": []
    },
    "5ed03d79db6940ba896453dfc3ebcbf6": {
     "views": []
    },
    "60b8efb6a8e949b9aa43773b033c398e": {
     "views": []
    },
    "6310d6be98624473ae5f6cc81952f435": {
     "views": []
    },
    "67f152ed934d4ad6b20982f72f08c9a5": {
     "views": []
    },
    "69eddfefb8724a6c939f81c87330e548": {
     "views": []
    },
    "6ad4c82607f64c5693b184129c46785e": {
     "views": []
    },
    "6bc4c87c3738483ebdeec1abfb8612b7": {
     "views": []
    },
    "6ea3c991cc904ed08263771f491499ac": {
     "views": []
    },
    "6f0c40464fe34a6f9b6b966b661762db": {
     "views": []
    },
    "6f2f48a667e7416296577cff5c2b2ab5": {
     "views": []
    },
    "70cf7516bc244942ac22dd8f1a407460": {
     "views": []
    },
    "721659025d9b4c1ba6f726a83f25adcb": {
     "views": []
    },
    "7233c62888904e1e94d2d4255ddafafb": {
     "views": []
    },
    "72d92ecaddc4471982ed60eead5f4ad4": {
     "views": []
    },
    "759afb6cdecd4265b2d6efa3203d4366": {
     "views": []
    },
    "7623dd8d9cea4752aaac3239b621d7fe": {
     "views": []
    },
    "76ad9ab0028240cd9fa1149440a875b7": {
     "views": []
    },
    "7904537b059f45d9834b64579f7050f3": {
     "views": []
    },
    "7a60e851c038409e88e1279e588d9112": {
     "views": []
    },
    "7a9490e9c496435da5d5888dae1479da": {
     "views": []
    },
    "7a950b9f919443b7bdc2132ba56bf00b": {
     "views": []
    },
    "7b4a1d54e78347caa810c6e74c847db7": {
     "views": []
    },
    "7d7c5136676042a5af2964a3295a7e3b": {
     "views": []
    },
    "7e9fd215bf3e4216bfaf46cdacb626ad": {
     "views": []
    },
    "7f3fdc452276483dbc8d1512288a0ed9": {
     "views": []
    },
    "7fb4650fc51b47e3b9d988a8cce3c84d": {
     "views": []
    },
    "7fca28f41b7240e0a0322d58eb6be374": {
     "views": []
    },
    "824407e211974872bb008b4b7eb599f9": {
     "views": []
    },
    "8443797000eb40f9b9d2af4b8c239c3d": {
     "views": []
    },
    "848a9080fcde4138997271f1fa9190e6": {
     "views": []
    },
    "863e69fbac5149d5b90b85595b72afd2": {
     "views": []
    },
    "868d805e24c243219f87adf30a7c5e16": {
     "views": []
    },
    "86d63bfff44d4ec4ac2e6db8f6b6173f": {
     "views": []
    },
    "86dabcc836c8425c93c0e61100baccfe": {
     "views": []
    },
    "870e43c23e254d6a975bda2e2c234a23": {
     "views": []
    },
    "875b076b561745e28e98ac41eb2b5938": {
     "views": []
    },
    "89056e5ac17a4214978b0bcf9c8bfe6b": {
     "views": []
    },
    "89db14cfd162419a8a537a6cd4a7e1fd": {
     "views": []
    },
    "8ac32a97f165481ea0007f2182b82395": {
     "views": []
    },
    "8b3fbaa13af44c3ca8c27bc84e672104": {
     "views": []
    },
    "8ccbbb3bfa90418ba57e34b08da2e387": {
     "views": []
    },
    "8d38bd3fe530427a9d3b1c50b1013138": {
     "views": []
    },
    "8f44134e0d3e417aae671e8d4fe26303": {
     "views": []
    },
    "92ed2f55ed744a0cbee053d0e156ced9": {
     "views": []
    },
    "958a9bba50a6456882fcbed4f740c5f7": {
     "views": []
    },
    "968e7e61021349bca127a643e7a59e08": {
     "views": []
    },
    "9743d04cb1a84966872791a7bffd048b": {
     "views": []
    },
    "9807d256c12a4c6d9aef111004e004bf": {
     "views": []
    },
    "9867dadaa1f94fddae929fb8d6a681b7": {
     "views": []
    },
    "98a3db2e90ce4652892674b8b5431e11": {
     "views": []
    },
    "9994ae0b026f4740a07a1005c8ec9e29": {
     "views": []
    },
    "9a6fcf9003484f049d6c1128b3400ebc": {
     "views": []
    },
    "9c58a01df5654d9dbbe6d53e7e205180": {
     "views": []
    },
    "9dedd66de29f4413b09ee1845ca1b04e": {
     "views": []
    },
    "9e218f6b96734160afe2544b14912bcf": {
     "views": []
    },
    "9faa246e50534bd5a01818334f69412f": {
     "views": []
    },
    "a290e6412bb14607aac8bf1c8fa9820a": {
     "views": []
    },
    "a2f247cc81eb4e2bad652f671226c043": {
     "views": []
    },
    "a46ac7bbb4d0422882a8bac591646151": {
     "views": []
    },
    "a4c8b21841884c85a6408b1e47e90b10": {
     "views": []
    },
    "a5922a627de6427c8a56eb8cbc240e2a": {
     "views": []
    },
    "a6df30596a7d47ed9239a3e2096e17a3": {
     "views": []
    },
    "a743fe938d5b4c6fa2f07da414dd00c1": {
     "views": []
    },
    "a832575e46414869ad1e105165f3be6d": {
     "views": []
    },
    "aa5446e73b824b058c37964c946e894a": {
     "views": []
    },
    "ab5188f3cdb14db1b4968d80cb06e9c8": {
     "views": []
    },
    "ab603ce3b42b4233a336b69b39e6948f": {
     "views": []
    },
    "ac21240382c3455eaf4b944769aa556f": {
     "views": []
    },
    "acfa8ff5cf2c4824b093f170cbf5c3fb": {
     "views": []
    },
    "ad459a5c5e864bd5a6253220164d1100": {
     "views": []
    },
    "ad7b66c1d50c4519b839170b4ab5bf8b": {
     "views": []
    },
    "aeb7a4704fb144dea1366a10d1fd88a0": {
     "views": []
    },
    "b000ce8d1fbf4cbd993021ad7ad157b4": {
     "views": []
    },
    "b0079192b2154160b862d8571095d5a8": {
     "views": []
    },
    "b1c16c7ff180484fb9caa6137d9132f3": {
     "views": []
    },
    "b40e7d367215441d88080da4fab541fd": {
     "views": []
    },
    "b51ef950fd1d448a944d21dc3ffb0cd8": {
     "views": []
    },
    "b539db862b7e461eac7a103da8a6d971": {
     "views": []
    },
    "b556a2ae79dd4e838c3e443c1c68b61b": {
     "views": []
    },
    "b8c99ee86f4444fbadc670eee95feb82": {
     "views": []
    },
    "b9b23e945d9e4db4bd63720a4e572cb6": {
     "views": []
    },
    "bab7a00c765f430c8cac0e205a334fca": {
     "views": []
    },
    "bbf4dbe6c968499cafaf4f1c2266b307": {
     "views": []
    },
    "bdb66612cfa34e8ea5f41df4194e450b": {
     "views": []
    },
    "becf3d55a1234510a060fca416041b3a": {
     "views": []
    },
    "bfde73044a5647869a0d38afd9bfbde2": {
     "views": []
    },
    "c0ef26f56a79463d8ea987a9220585f1": {
     "views": []
    },
    "c22126e05bbc4db09f9acf40f5a1af23": {
     "views": []
    },
    "c24fe65251b747fda220a493dbaa82ef": {
     "views": []
    },
    "c2c458b431a14b2fa6ed473acb759184": {
     "views": []
    },
    "c318e7b019844d21b1b53dfc70b31ef4": {
     "views": []
    },
    "c3e3d9fd9e214f33bcfbb24f04e4b16c": {
     "views": []
    },
    "c58ffd2e03ef4e048e0858bcef27825e": {
     "views": []
    },
    "c5e47e2e2bd8497f8e01aabe5b2a6806": {
     "views": []
    },
    "c98013a170b94bddbca810a2d228d02b": {
     "views": []
    },
    "caaf55cac7ec476ba8c045df9c1f1bc1": {
     "views": []
    },
    "cb8ab5dcc240473e8e2e850919da6921": {
     "views": []
    },
    "cda45dd7c67b408cacba241b19d78920": {
     "views": []
    },
    "ce182bb760b64241afafed2924f0ce7d": {
     "views": []
    },
    "ce616856320e42fcaed79bbaa9dae7c1": {
     "views": []
    },
    "d0120b52d2824ab7b85557b43e700dfc": {
     "views": []
    },
    "d78f71e0e46a4338a7aac71e1117b2b7": {
     "views": []
    },
    "d976c04c6c424ff6898224518c742603": {
     "views": []
    },
    "dd3f7c93b0854c0e8245c6bf4e3764b6": {
     "views": []
    },
    "e15fe0f09d9d47b8b717d95b9027c399": {
     "views": []
    },
    "e581d02f1fe64a768641889fbd487e27": {
     "views": []
    },
    "e61818d1c5d94738a47e1f9e66ff3fbb": {
     "views": []
    },
    "e71c7a10493848ed904df4765ae9024a": {
     "views": []
    },
    "e720601743b84ba2a58405330c96089c": {
     "views": []
    },
    "e76a6da074ec4d56810cf250751386f7": {
     "views": []
    },
    "ea3a3d1665234f818cbb4109f4216ad9": {
     "views": []
    },
    "ea77ceb166fe431ca88c179883de0bf3": {
     "views": []
    },
    "ea7b808e394a4ec386b40aa28c57c1ab": {
     "views": []
    },
    "ec9c0c252bf64739a1bfd5dc96ccea38": {
     "views": []
    },
    "edbb6af0f9174f4da222fb721411969e": {
     "views": []
    },
    "ee801771f4904495940be382277951be": {
     "views": []
    },
    "ef492ef6309a41998fcd183f0036facf": {
     "views": []
    },
    "efb31ddb686d4d908e1d4811646a471d": {
     "views": []
    },
    "f09ebbce296f4babaa439694f0aac6b7": {
     "views": []
    },
    "f290387cabb34155a70fdb28b772b450": {
     "views": []
    },
    "f301b95be12e4b689238fff8fcb0166a": {
     "views": []
    },
    "f4c3f833b34740bbbf9e97d8ee0f4442": {
     "views": [
      {
       "cell_index": 2
      }
     ]
    },
    "f53cfe6ee987443d8b5a7131bfd5b3ee": {
     "views": []
    },
    "f6091f99eb5145ef8a84f7fd5349feeb": {
     "views": []
    },
    "f64ac1505af64146b8e12996250ea873": {
     "views": []
    },
    "f6f5e39b4dc043d2b18250446d069c06": {
     "views": []
    },
    "f9d2b1d6fa724913b535e676ca6d8aef": {
     "views": []
    },
    "f9dad77e37ed4a2498c59ebc6649e053": {
     "views": []
    },
    "fbbfef527fc447fea7906aa09775838b": {
     "views": []
    },
    "fc7c6011428c46f0842c9b4998d3b2fa": {
     "views": []
    },
    "fe5ea8659a9b4d948a7ad1462f951a66": {
     "views": []
    }
   },
   "version": "1.1.2"
  }
 },
 "nbformat": 4,
 "nbformat_minor": 0
}
