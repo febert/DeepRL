{
 "cells": [
  {
   "cell_type": "code",
   "execution_count": null,
   "metadata": {
    "collapsed": true,
    "urth": {
     "dashboard": {
      "hidden": true,
      "layout": {}
     }
    }
   },
   "outputs": [],
   "source": [
    "import matplotlib\n",
    "matplotlib.use(\"Agg\")\n",
    "import warnings\n",
    "warnings.filterwarnings(\"ignore\", module=\"matplotlib\")\n",
    "\n",
    "from IPython.display import display\n",
    "from ipywidgets import widgets \n",
    "import signal\n",
    "import matplotlib.pyplot as plt\n",
    "\n"
   ]
  },
  {
   "cell_type": "code",
   "execution_count": 1,
   "metadata": {
    "collapsed": false,
    "urth": {
     "dashboard": {
      "layout": {
       "col": 0,
       "height": 6,
       "row": 0,
       "width": 4
      }
     }
    }
   },
   "outputs": [
    {
     "data": {
      "text/html": [
       " <style type=\"text/css\">\n",
       "    #wrap {\n",
       "      overflow: hidden;\n",
       "    }\n",
       "    .box {\n",
       "      width: 20%;\n",
       "      padding-bottom: 20%;\n",
       "      color: #FFF;\n",
       "      position: relative;\n",
       "      float: left;\n",
       "    }\n",
       "    .innerContent {\n",
       "      position: absolute;\n",
       "      left: 1px;\n",
       "      right: 1px;\n",
       "      top: 1px;\n",
       "      bottom: 1px;\n",
       "      background: #66F;\n",
       "      padding: 10px;\n",
       "    }\n",
       "  </style>\n",
       "\n",
       "\n",
       "  <div id=\"wrap\">\n",
       "    <div class=\"box\">\n",
       "      <div class=\"innerContent\">\n",
       "        Absolutely-positioned content isn't counted in the parent's height!\n",
       "      </div>\n",
       "    </div>\n",
       "    <div class=\"box\">\n",
       "      <div class=\"innerContent\">\n",
       "        Absolutely-positioned content isn't counted in the parent's height!\n",
       "      </div>\n",
       "    </div>\n",
       "    <div class=\"box\">\n",
       "      <div class=\"innerContent\">\n",
       "        Absolutely-positioned content isn't counted in the parent's height!\n",
       "      </div>\n",
       "    </div>\n",
       "    <div class=\"box\">\n",
       "      <div class=\"innerContent\">\n",
       "        Absolutely-positioned content isn't counted in the parent's height!\n",
       "      </div>\n",
       "    </div>\n",
       "    <div class=\"box\">\n",
       "      <div class=\"innerContent\">\n",
       "        Absolutely-positioned content isn't counted in the parent's height!\n",
       "      </div>\n",
       "    </div>\n",
       "    <div class=\"box\">\n",
       "      <div class=\"innerContent\">\n",
       "        Absolutely-positioned content isn't counted in the parent's height!\n",
       "      </div>\n",
       "    </div>\n",
       "    <div class=\"box\">\n",
       "      <div class=\"innerContent\">\n",
       "        Absolutely-positioned content isn't counted in the parent's height!\n",
       "      </div>\n",
       "    </div>\n",
       "    <div class=\"box\">\n",
       "      <div class=\"innerContent\">\n",
       "        Absolutely-positioned content isn't counted in the parent's height!\n",
       "      </div>\n",
       "    </div>\n",
       "    <div class=\"box\">\n",
       "      <div class=\"innerContent\">\n",
       "        Absolutely-positioned content isn't counted in the parent's height!\n",
       "      </div>\n",
       "    </div>\n",
       "</div>"
      ],
      "text/plain": [
       "<IPython.core.display.HTML object>"
      ]
     },
     "metadata": {},
     "output_type": "display_data"
    }
   ],
   "source": [
    "%%html\n",
    " <style type=\"text/css\">\n",
    "    #wrap {\n",
    "      overflow: hidden;\n",
    "    }\n",
    "    .box {\n",
    "      width: 20%;\n",
    "      padding-bottom: 20%;\n",
    "      color: #FFF;\n",
    "      position: relative;\n",
    "      float: left;\n",
    "    }\n",
    "    .innerContent {\n",
    "      position: absolute;\n",
    "      left: 1px;\n",
    "      right: 1px;\n",
    "      top: 1px;\n",
    "      bottom: 1px;\n",
    "      background: #66F;\n",
    "      padding: 10px;\n",
    "    }\n",
    "  </style>\n",
    "\n",
    "\n",
    "  <div id=\"wrap\">\n",
    "    <div class=\"box\">\n",
    "      <div class=\"innerContent\">\n",
    "        Absolutely-positioned content isn't counted in the parent's height!\n",
    "      </div>\n",
    "    </div>\n",
    "    <div class=\"box\">\n",
    "      <div class=\"innerContent\">\n",
    "        Absolutely-positioned content isn't counted in the parent's height!\n",
    "      </div>\n",
    "    </div>\n",
    "    <div class=\"box\">\n",
    "      <div class=\"innerContent\">\n",
    "        Absolutely-positioned content isn't counted in the parent's height!\n",
    "      </div>\n",
    "    </div>\n",
    "    <div class=\"box\">\n",
    "      <div class=\"innerContent\">\n",
    "        Absolutely-positioned content isn't counted in the parent's height!\n",
    "      </div>\n",
    "    </div>\n",
    "    <div class=\"box\">\n",
    "      <div class=\"innerContent\">\n",
    "        Absolutely-positioned content isn't counted in the parent's height!\n",
    "      </div>\n",
    "    </div>\n",
    "    <div class=\"box\">\n",
    "      <div class=\"innerContent\">\n",
    "        Absolutely-positioned content isn't counted in the parent's height!\n",
    "      </div>\n",
    "    </div>\n",
    "    <div class=\"box\">\n",
    "      <div class=\"innerContent\">\n",
    "        Absolutely-positioned content isn't counted in the parent's height!\n",
    "      </div>\n",
    "    </div>\n",
    "    <div class=\"box\">\n",
    "      <div class=\"innerContent\">\n",
    "        Absolutely-positioned content isn't counted in the parent's height!\n",
    "      </div>\n",
    "    </div>\n",
    "    <div class=\"box\">\n",
    "      <div class=\"innerContent\">\n",
    "        Absolutely-positioned content isn't counted in the parent's height!\n",
    "      </div>\n",
    "    </div>\n",
    "</div>"
   ]
  },
  {
   "cell_type": "code",
   "execution_count": 1,
   "metadata": {
    "collapsed": true,
    "urth": {
     "dashboard": {
      "layout": {
       "col": 4,
       "height": 6,
       "row": 0,
       "width": 8
      }
     }
    }
   },
   "outputs": [],
   "source": [
    "import ipywidgets as widgets\n",
    "widgets.Image()"
   ]
  },
  {
   "cell_type": "code",
   "execution_count": null,
   "metadata": {
    "collapsed": true,
    "urth": {
     "dashboard": {
      "hidden": true,
      "layout": {}
     }
    }
   },
   "outputs": [],
   "source": []
  }
 ],
 "metadata": {
  "kernelspec": {
   "display_name": "Python 2",
   "language": "python",
   "name": "python2"
  },
  "language_info": {
   "codemirror_mode": {
    "name": "ipython",
    "version": 2
   },
   "file_extension": ".py",
   "mimetype": "text/x-python",
   "name": "python",
   "nbconvert_exporter": "python",
   "pygments_lexer": "ipython2",
   "version": "2.7.11"
  },
  "urth": {
   "dashboard": {
    "cellMargin": 10,
    "defaultCellHeight": 20,
    "layout": "grid",
    "maxColumns": 12
   }
  },
  "widgets": {
   "state": {
    "b765a95f8293420d946bb9df8e7846d9": {
     "views": []
    },
    "f3376371e9c14af895f41fc09570c1ef": {
     "views": [
      {
       "cell_index": 2
      }
     ]
    }
   },
   "version": "1.1.1"
  }
 },
 "nbformat": 4,
 "nbformat_minor": 0
}
